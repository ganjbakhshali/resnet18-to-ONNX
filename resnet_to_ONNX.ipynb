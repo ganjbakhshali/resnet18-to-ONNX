{
  "nbformat": 4,
  "nbformat_minor": 0,
  "metadata": {
    "colab": {
      "name": "resnet to ONNX.ipynb",
      "provenance": []
    },
    "kernelspec": {
      "name": "python3",
      "display_name": "Python 3"
    },
    "language_info": {
      "name": "python"
    },
    "accelerator": "GPU"
  },
  "cells": [
    {
      "cell_type": "code",
      "execution_count": 35,
      "metadata": {
        "id": "iZ17MfbvBgoI"
      },
      "outputs": [],
      "source": [
        "import torch\n",
        "import numpy as np\n",
        "import torchvision\n",
        "from PIL import Image"
      ]
    },
    {
      "cell_type": "code",
      "source": [
        "res18=torchvision.models.resnet18(pretrained=True)"
      ],
      "metadata": {
        "id": "NflO3KfpB2y8"
      },
      "execution_count": 36,
      "outputs": []
    },
    {
      "cell_type": "code",
      "source": [
        "import urllib\n",
        "url, filename = (\"https://github.com/pytorch/hub/raw/master/images/dog.jpg\", \"dog.jpg\") # Notebook Link will be in description\n",
        "urllib.request.urlretrieve(url, filename)"
      ],
      "metadata": {
        "colab": {
          "base_uri": "https://localhost:8080/"
        },
        "id": "zICQ3SMQCMMX",
        "outputId": "18b06882-5e67-493a-8b8a-b0c9b67243f8"
      },
      "execution_count": 37,
      "outputs": [
        {
          "output_type": "execute_result",
          "data": {
            "text/plain": [
              "('dog.jpg', <http.client.HTTPMessage at 0x7f9f14b74250>)"
            ]
          },
          "metadata": {},
          "execution_count": 37
        }
      ]
    },
    {
      "cell_type": "code",
      "source": [
        "from torchvision import transforms\n",
        "inp_image = Image.open(filename)"
      ],
      "metadata": {
        "id": "vTqCBXtuCqL5"
      },
      "execution_count": 38,
      "outputs": []
    },
    {
      "cell_type": "code",
      "source": [
        "preprocess = transforms.Compose([\n",
        "                                 transforms.Resize(256),\n",
        "                                 transforms.CenterCrop(224),\n",
        "                                 transforms.ToTensor(),\n",
        "                                 transforms.Normalize(mean=[0.485, 0.456, 0.406], std=[0.229, 0.224, 0.225])\n",
        "])"
      ],
      "metadata": {
        "id": "-irRNEqkCrpv"
      },
      "execution_count": 39,
      "outputs": []
    },
    {
      "cell_type": "code",
      "source": [
        "device = torch.device(\"cuda:0\" if torch.cuda.is_available() else \"cpu\")\n",
        "input_tensor = preprocess(inp_image)\n",
        "inp_batch = input_tensor.unsqueeze(0).to(device)"
      ],
      "metadata": {
        "id": "j3fNabSMCxbQ"
      },
      "execution_count": 51,
      "outputs": []
    },
    {
      "cell_type": "code",
      "source": [
        "\n",
        "inp_batch.to(device)\n",
        "res18.to(device)"
      ],
      "metadata": {
        "id": "_B14vkYJCzxL"
      },
      "execution_count": null,
      "outputs": []
    },
    {
      "cell_type": "code",
      "source": [
        "inp_batch.device"
      ],
      "metadata": {
        "colab": {
          "base_uri": "https://localhost:8080/"
        },
        "id": "6p8aXTRkHimi",
        "outputId": "2cd0e27f-d275-4faa-ef59-50322218889c"
      },
      "execution_count": 45,
      "outputs": [
        {
          "output_type": "execute_result",
          "data": {
            "text/plain": [
              "device(type='cpu')"
            ]
          },
          "metadata": {},
          "execution_count": 45
        }
      ]
    },
    {
      "cell_type": "code",
      "source": [
        "a=next(res18.parameters())"
      ],
      "metadata": {
        "id": "V3xz0cI1H4pQ"
      },
      "execution_count": 47,
      "outputs": []
    },
    {
      "cell_type": "code",
      "source": [
        "a.dtype"
      ],
      "metadata": {
        "colab": {
          "base_uri": "https://localhost:8080/"
        },
        "id": "M98MKjCAIJoP",
        "outputId": "0b779595-6de5-4c5b-be84-d72f525de90c"
      },
      "execution_count": 50,
      "outputs": [
        {
          "output_type": "execute_result",
          "data": {
            "text/plain": [
              "torch.float32"
            ]
          },
          "metadata": {},
          "execution_count": 50
        }
      ]
    },
    {
      "cell_type": "code",
      "source": [
        "with torch.no_grad():\n",
        "  output = res18(inp_batch)\n",
        "print(output[0])"
      ],
      "metadata": {
        "id": "8R86bvdfC7TY"
      },
      "execution_count": null,
      "outputs": []
    },
    {
      "cell_type": "code",
      "source": [
        "import torch.onnx\n",
        "torch.onnx.export(res18,\n",
        "                  inp_batch,\n",
        "                  \"resnet18.onnx\",\n",
        "                  export_params=True,\n",
        "                  opset_version=10)"
      ],
      "metadata": {
        "id": "IfL1Kzc_DWux"
      },
      "execution_count": 54,
      "outputs": []
    },
    {
      "cell_type": "code",
      "source": [
        ""
      ],
      "metadata": {
        "id": "AjGwIy1LEQST"
      },
      "execution_count": null,
      "outputs": []
    }
  ]
}